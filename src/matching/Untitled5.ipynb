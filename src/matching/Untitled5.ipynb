{
 "metadata": {
  "name": ""
 },
 "nbformat": 3,
 "nbformat_minor": 0,
 "worksheets": [
  {
   "cells": [
    {
     "cell_type": "code",
     "collapsed": false,
     "input": [
      "%load_ext autoreload\n",
      "%autoreload 2"
     ],
     "language": "python",
     "metadata": {},
     "outputs": [],
     "prompt_number": 1
    },
    {
     "cell_type": "code",
     "collapsed": false,
     "input": [
      "%pdb"
     ],
     "language": "python",
     "metadata": {},
     "outputs": [
      {
       "output_type": "stream",
       "stream": "stdout",
       "text": [
        "Automatic pdb calling has been turned ON\n"
       ]
      }
     ],
     "prompt_number": 2
    },
    {
     "cell_type": "code",
     "collapsed": false,
     "input": [
      "%run test1"
     ],
     "language": "python",
     "metadata": {},
     "outputs": [],
     "prompt_number": 9
    },
    {
     "cell_type": "code",
     "collapsed": false,
     "input": [
      "hard"
     ],
     "language": "python",
     "metadata": {},
     "outputs": [
      {
       "metadata": {},
       "output_type": "pyout",
       "prompt_number": 11,
       "text": [
        "<matching.skillTree instance at 0x1034ce560>"
       ]
      }
     ],
     "prompt_number": 11
    },
    {
     "cell_type": "code",
     "collapsed": false,
     "input": [
      "hard.printTree()"
     ],
     "language": "python",
     "metadata": {},
     "outputs": [
      {
       "output_type": "stream",
       "stream": "stdout",
       "text": [
        "Printing tree3\n",
        "[[None None None ..., None None None]\n",
        " [None None None ..., None None None]\n",
        " [None None None ..., None None None]\n",
        " ..., \n",
        " [None None None ..., None None None]\n",
        " [None None None ..., None None None]\n",
        " [None None None ..., None None None]]\n",
        "[[None None '3' ..., None None None]\n",
        " [None None None ..., None None None]\n",
        " [None None None ..., None None None]\n",
        " ..., \n",
        " [None None None ..., None None None]\n",
        " [None None None ..., None None None]\n",
        " [None None None ..., None None None]]\n",
        "storing 3 in 0 at 2\n",
        "3\n",
        "[[None None '3' ..., None None None]\n",
        " [None None None ..., None None None]\n",
        " [None None None ..., None None None]\n",
        " ..., \n",
        " [None None None ..., None None None]\n",
        " [None None None ..., None None None]\n",
        " [None None None ..., None None None]]\n",
        "[[None None '3' ..., None None None]\n",
        " [None None None ..., None None None]\n",
        " [None None None ..., None None None]\n",
        " ..., \n",
        " [None None None ..., None None None]\n",
        " [None None None ..., None None None]\n",
        " [None None None ..., None None None]]\n",
        "storing 7 in 1 at 4\n",
        "7\n",
        "[[None None '3' ..., None None None]\n",
        " [None None None ..., None None None]\n",
        " [None None None ..., None None None]\n",
        " ..., \n",
        " [None None None ..., None None None]\n",
        " [None None None ..., None None None]\n",
        " [None None None ..., None None None]]\n",
        "[[None None '3' ..., None None None]\n",
        " [None None None ..., None None None]\n",
        " [None None None ..., None None None]\n",
        " ..., \n",
        " [None None None ..., None None None]\n",
        " [None None None ..., None None None]\n",
        " [None None None ..., None None None]]\n",
        "storing 8 in 2 at 4\n",
        "8\n",
        "[[None None '3' ..., None None None]\n",
        " [None None None ..., None None None]\n",
        " [None None None ..., None None None]\n",
        " ..., \n",
        " [None None None ..., None None None]\n",
        " [None None None ..., None None None]\n",
        " [None None None ..., None None None]]\n",
        "[[None None '3' ..., None None None]\n",
        " [None None None ..., None None None]\n",
        " [None None None ..., None None None]\n",
        " ..., \n",
        " [None None None ..., None None None]\n",
        " [None None None ..., None None None]\n",
        " [None None None ..., None None None]]\n",
        "storing 6 in 3 at 3\n",
        "6\n",
        "[[None None '3' ..., None None None]\n",
        " [None None None ..., None None None]\n",
        " [None None None ..., None None None]\n",
        " ..., \n",
        " [None None None ..., None None None]\n",
        " [None None None ..., None None None]\n",
        " [None None None ..., None None None]]\n",
        "[[None None '3' ..., None None None]\n",
        " [None None None ..., None None None]\n",
        " [None None None ..., None None None]\n",
        " ..., \n",
        " [None None None ..., None None None]\n",
        " [None None None ..., None None None]\n",
        " [None None None ..., None None None]]\n",
        "storing 4 in 3 at 2\n",
        "4\n",
        "[[None None '3' ..., None None None]\n",
        " [None None None ..., None None None]\n",
        " [None None None ..., None None None]\n",
        " ..., \n",
        " [None None None ..., None None None]\n",
        " [None None None ..., None None None]\n",
        " [None None None ..., None None None]]\n",
        "[[None None '3' ..., None None None]\n",
        " [None None None ..., None None None]\n",
        " [None None None ..., None None None]\n",
        " ..., \n",
        " [None None None ..., None None None]\n",
        " [None None None ..., None None None]\n",
        " [None None None ..., None None None]]\n",
        "storing 2 in 4 at 1\n",
        "2\n",
        "[[None None '3' ..., None None None]\n",
        " [None None None ..., None None None]\n",
        " [None None None ..., None None None]\n",
        " ..., \n",
        " [None None None ..., None None None]\n",
        " [None None None ..., None None None]\n",
        " [None None None ..., None None None]]\n",
        "[[None None '3' ..., None None None]\n",
        " [None None None ..., None None None]\n",
        " [None None None ..., None None None]\n",
        " ..., \n",
        " [None None None ..., None None None]\n",
        " [None None None ..., None None None]\n",
        " [None None None ..., None None None]]\n",
        "storing 5 in 5 at 1\n",
        "5\n",
        "[[None None '3' ..., None None None]\n",
        " [None None None ..., None None None]\n",
        " [None None None ..., None None None]\n",
        " ..., \n",
        " [None None None ..., None None None]\n",
        " [None None None ..., None None None]\n",
        " [None None None ..., None None None]]\n",
        "[[None None '3' ..., None None None]\n",
        " [None None None ..., None None None]\n",
        " [None None None ..., None None None]\n",
        " ..., \n",
        " [None None None ..., None None None]\n",
        " [None None None ..., None None None]\n",
        " [None None None ..., None None None]]\n",
        "storing 1 in 6 at 0\n",
        "1\n",
        "[[None None '3' ..., None None None]\n",
        " [None None None ..., None None None]\n",
        " [None None None ..., None None None]\n",
        " ..., \n",
        " [None None None ..., None None None]\n",
        " [None None None ..., None None None]\n",
        " [None None None ..., None None None]]\n",
        "[[None None '3' ..., None None None]\n",
        " [None None None ..., None None None]\n",
        " [None None None ..., None None None]\n",
        " ..., \n",
        " [None None None ..., None None None]\n",
        " [None None None ..., None None None]\n",
        " [None None None ..., None None None]]\n"
       ]
      }
     ],
     "prompt_number": 12
    },
    {
     "cell_type": "code",
     "collapsed": false,
     "input": [
      "print store2"
     ],
     "language": "python",
     "metadata": {},
     "outputs": [
      {
       "output_type": "stream",
       "stream": "stdout",
       "text": [
        "[[None None '3' ..., None None None]\n",
        " [None None None ..., None None None]\n",
        " [None None None ..., None None None]\n",
        " ..., \n",
        " [None None None ..., None None None]\n",
        " [None None None ..., None None None]\n",
        " [None None None ..., None None None]]\n"
       ]
      }
     ],
     "prompt_number": 6
    },
    {
     "cell_type": "code",
     "collapsed": false,
     "input": [
      "a=1"
     ],
     "language": "python",
     "metadata": {},
     "outputs": [],
     "prompt_number": 7
    },
    {
     "cell_type": "code",
     "collapsed": false,
     "input": [
      "print store2"
     ],
     "language": "python",
     "metadata": {},
     "outputs": [
      {
       "output_type": "stream",
       "stream": "stdout",
       "text": [
        "[[None None '3' ..., None None None]\n",
        " [None None None ..., None None None]\n",
        " [None None None ..., None None None]\n",
        " ..., \n",
        " [None None None ..., None None None]\n",
        " [None None None ..., None None None]\n",
        " [None None None ..., None None None]]\n"
       ]
      }
     ],
     "prompt_number": 8
    },
    {
     "cell_type": "code",
     "collapsed": false,
     "input": [
      "a=1"
     ],
     "language": "python",
     "metadata": {},
     "outputs": [],
     "prompt_number": 9
    },
    {
     "cell_type": "code",
     "collapsed": false,
     "input": [
      "a"
     ],
     "language": "python",
     "metadata": {},
     "outputs": [
      {
       "metadata": {},
       "output_type": "pyout",
       "prompt_number": 10,
       "text": [
        "1"
       ]
      }
     ],
     "prompt_number": 10
    },
    {
     "cell_type": "code",
     "collapsed": false,
     "input": [
      "myList"
     ],
     "language": "python",
     "metadata": {},
     "outputs": [
      {
       "ename": "NameError",
       "evalue": "name 'myList' is not defined",
       "output_type": "pyerr",
       "traceback": [
        "\u001b[0;31m---------------------------------------------------------------------------\u001b[0m\n\u001b[0;31mNameError\u001b[0m                                 Traceback (most recent call last)",
        "\u001b[0;32m<ipython-input-11-b17379e0255f>\u001b[0m in \u001b[0;36m<module>\u001b[0;34m()\u001b[0m\n\u001b[0;32m----> 1\u001b[0;31m \u001b[0mmyList\u001b[0m\u001b[0;34m\u001b[0m\u001b[0m\n\u001b[0m",
        "\u001b[0;31mNameError\u001b[0m: name 'myList' is not defined"
       ]
      },
      {
       "output_type": "stream",
       "stream": "stdout",
       "text": [
        "> \u001b[0;32m<ipython-input-11-b17379e0255f>\u001b[0m(1)\u001b[0;36m<module>\u001b[0;34m()\u001b[0m\n",
        "\u001b[0;32m----> 1 \u001b[0;31m\u001b[0mmyList\u001b[0m\u001b[0;34m\u001b[0m\u001b[0m\n",
        "\u001b[0m\n"
       ]
      }
     ],
     "prompt_number": "*"
    },
    {
     "cell_type": "code",
     "collapsed": false,
     "input": [],
     "language": "python",
     "metadata": {},
     "outputs": []
    }
   ],
   "metadata": {}
  }
 ]
}